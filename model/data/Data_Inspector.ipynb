{
 "cells": [
  {
   "cell_type": "code",
   "execution_count": 5,
   "id": "tender-cable",
   "metadata": {},
   "outputs": [],
   "source": [
    "import pandas as pd\n",
    "import numpy as np"
   ]
  },
  {
   "cell_type": "code",
   "execution_count": 3,
   "id": "mediterranean-complement",
   "metadata": {},
   "outputs": [
    {
     "data": {
      "text/plain": [
       "Index(['date', 'name', 'iso_code', 'cases', 'total_population_all',\n",
       "       'total_population_below_1', 'total_population_1_to_4',\n",
       "       'total_population_5_to_14', 'total_population_15_to_24',\n",
       "       'total_population_25_to_34', 'total_population_35_to_54',\n",
       "       'total_population_55_to_74', 'total_population_above_75',\n",
       "       'population_percentage_over_60', 'hospital_beds_per_1000',\n",
       "       'physicians_per_1000', 'nurses_per_1000', 'maxtempC', 'mintempC',\n",
       "       'tempC', 'FeelsLikeC', 'humidity', 'pressure', 'HeatIndexC', 'uvIndex',\n",
       "       'totalSnow_cm', 'sunHour', 'windspeedKmph', 'precipMM',\n",
       "       'unemployment_rate_2021_09_30', 'unemployment_rate_2021_12_31',\n",
       "       'unemployment_rate_2019_03_31', 'unemployment_rate_2019_06_30',\n",
       "       'unemployment_rate_2019_09_30', 'unemployment_rate_2019_12_31',\n",
       "       'gdp_2019_03_31', 'gdp_2019_06_30', 'gdp_2019_09_30', 'gdp_2019_12_31',\n",
       "       'gdp_2020_03_31', 'gdp_2020_06_30', 'gdp_2020_09_30', 'gdp_2020_12_31',\n",
       "       'gdp_2021_03_31', 'gdp_2021_06_30', 'gdp_2021_09_30', 'gdp_2021_12_31',\n",
       "       'unemployment_rate_2020_03_31', 'unemployment_rate_2020_06_30',\n",
       "       'unemployment_rate_2020_09_30', 'unemployment_rate_2020_12_31',\n",
       "       'unemployment_rate_2021_03_31', 'unemployment_rate_2021_06_30',\n",
       "       'school_closing', 'workplace_closing', 'cancel_public_events',\n",
       "       'restrictions_on_gatherings', 'close_public_transport',\n",
       "       'stay_at_home_requirements', 'contact_tracing',\n",
       "       'restrictions_on_internal_movement', 'international_travel_controls',\n",
       "       'epiforecasts_effective_reproduction_number_median', 'date_index',\n",
       "       'shifted_r_estim'],\n",
       "      dtype='object')"
      ]
     },
     "execution_count": 3,
     "metadata": {},
     "output_type": "execute_result"
    }
   ],
   "source": [
    "df = pd.read_csv('final_data.csv')\n",
    "df.columns"
   ]
  },
  {
   "cell_type": "code",
   "execution_count": 13,
   "id": "likely-statistics",
   "metadata": {},
   "outputs": [
    {
     "data": {
      "text/plain": [
       "array(['Bulgaria', 'Bermuda', 'Germany', 'France', 'Hungary', 'Iceland',\n",
       "       'Israel', 'Italy', 'South Korea', 'Malta', 'Netherlands', 'Norway',\n",
       "       'New Zealand', 'Portugal', 'San Marino', 'Slovakia', 'Turkey'],\n",
       "      dtype=object)"
      ]
     },
     "execution_count": 13,
     "metadata": {},
     "output_type": "execute_result"
    }
   ],
   "source": [
    "df[(df['total_population_all'] != (df['total_population_below_1']+df['total_population_1_to_4']+df['total_population_5_to_14']+df['total_population_15_to_24']+df['total_population_25_to_34']\\\n",
    "                                  +df['total_population_35_to_54']+df['total_population_55_to_74']+df['total_population_above_75'])) & (df['total_population_below_1'].notna())]['name'].unique()"
   ]
  },
  {
   "cell_type": "code",
   "execution_count": 16,
   "id": "excess-barbados",
   "metadata": {},
   "outputs": [],
   "source": [
    "df['total_population_all'] = df.apply(lambda row: row['total_population_below_1']+row['total_population_1_to_4']+row['total_population_5_to_14']+row['total_population_15_to_24']+row['total_population_25_to_34']\\\n",
    "                                  +row['total_population_35_to_54']+row['total_population_55_to_74']+row['total_population_above_75'] if row['total_population_below_1'] else row['total_population_all'].notnull(), axis=1)"
   ]
  },
  {
   "cell_type": "code",
   "execution_count": null,
   "id": "cubic-orbit",
   "metadata": {},
   "outputs": [],
   "source": []
  }
 ],
 "metadata": {
  "kernelspec": {
   "display_name": "Python 3",
   "language": "python",
   "name": "python3"
  },
  "language_info": {
   "codemirror_mode": {
    "name": "ipython",
    "version": 3
   },
   "file_extension": ".py",
   "mimetype": "text/x-python",
   "name": "python",
   "nbconvert_exporter": "python",
   "pygments_lexer": "ipython3",
   "version": "3.8.8"
  }
 },
 "nbformat": 4,
 "nbformat_minor": 5
}
